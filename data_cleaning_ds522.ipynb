{
  "nbformat": 4,
  "nbformat_minor": 0,
  "metadata": {
    "colab": {
      "provenance": []
    },
    "kernelspec": {
      "name": "python3",
      "display_name": "Python 3"
    },
    "language_info": {
      "name": "python"
    }
  },
  "cells": [
    {
      "cell_type": "markdown",
      "source": [
        "# Unzip Dataset Archive\n",
        "\n",
        "Run once when you start using this notebook. Make sure project_data.zip is in the local runtime storage."
      ],
      "metadata": {
        "id": "3oCEInE9E9hm"
      }
    },
    {
      "cell_type": "code",
      "source": [
        "!unzip project_data.zip"
      ],
      "metadata": {
        "colab": {
          "base_uri": "https://localhost:8080/"
        },
        "id": "xbtfvE7zA_qE",
        "outputId": "f43aed45-6f33-4f25-9a09-93d17405eff0"
      },
      "execution_count": null,
      "outputs": [
        {
          "output_type": "stream",
          "name": "stdout",
          "text": [
            "Archive:  project_data.zip\n",
            "  inflating: cdc-fertility-2019.csv  \n",
            "  inflating: __MACOSX/._cdc-fertility-2019.csv  \n",
            "  inflating: cdc-firearm-deaths-2019.csv  \n",
            "  inflating: __MACOSX/._cdc-firearm-deaths-2019.csv  \n",
            "  inflating: cdc-homicides-2019.csv  \n",
            "  inflating: __MACOSX/._cdc-homicides-2019.csv  \n",
            "  inflating: cdc-infant-mortality-2019.csv  \n",
            "  inflating: __MACOSX/._cdc-infant-mortality-2019.csv  \n",
            "  inflating: cdc-life-expectancy-2019.csv  \n",
            "  inflating: __MACOSX/._cdc-life-expectancy-2019.csv  \n",
            "  inflating: cdc-marriage-2019.csv   \n",
            "  inflating: __MACOSX/._cdc-marriage-2019.csv  \n",
            "  inflating: cdc-teen-births-2019.csv  \n",
            "  inflating: __MACOSX/._cdc-teen-births-2019.csv  \n",
            "  inflating: fbi-homicides-2019.csv  \n",
            "  inflating: __MACOSX/._fbi-homicides-2019.csv  \n",
            "  inflating: mass_shootings.csv      \n",
            "  inflating: __MACOSX/._mass_shootings.csv  \n",
            "  inflating: partisan-gun-data.csv   \n",
            "  inflating: __MACOSX/._partisan-gun-data.csv  \n",
            "  inflating: state_gdp_raw_in_millions.csv  \n",
            "  inflating: __MACOSX/._state_gdp_raw_in_millions.csv  \n",
            "  inflating: unemployment_rate_raw.csv  \n",
            "  inflating: __MACOSX/._unemployment_rate_raw.csv  \n",
            "  inflating: weekly_earnings_raw.csv  \n",
            "  inflating: __MACOSX/._weekly_earnings_raw.csv  \n",
            "  inflating: us_state_abbrev.py      \n",
            "  inflating: __MACOSX/._us_state_abbrev.py  \n",
            "  inflating: cdc-covid19-2022.csv    \n",
            "  inflating: __MACOSX/._cdc-covid19-2022.csv  \n",
            "  inflating: cdc-divorce-2019.csv    \n",
            "  inflating: __MACOSX/._cdc-divorce-2019.csv  \n",
            "  inflating: cdc-drug-od-2019.csv    \n",
            "  inflating: __MACOSX/._cdc-drug-od-2019.csv  \n"
          ]
        }
      ]
    },
    {
      "cell_type": "markdown",
      "source": [
        "# Import\n",
        "\n",
        "Last one is an open-source package us_state_abbrev.py so double check that it's present in runtime directory."
      ],
      "metadata": {
        "id": "74y2CPeWUDuN"
      }
    },
    {
      "cell_type": "code",
      "execution_count": null,
      "metadata": {
        "id": "zA9NZJdGFp05"
      },
      "outputs": [],
      "source": [
        "import numpy as np\n",
        "import pandas as pd\n",
        "import matplotlib.pyplot as plt\n",
        "import us_state_abbrev as usa"
      ]
    },
    {
      "cell_type": "markdown",
      "source": [
        "# Data Cleaning - Shootings\n",
        "\n",
        "Our dependent variable to predict here is gun violence numbers. We'll consider two types.\n",
        "\n",
        "The first dataset to consider is from the FBI for 2019 on random homicides with weapon type. It has incomplete data for Alabama, Florida, and Illinois. Either drop or account for as outliers.\n",
        "\n",
        "Initially, it's total numbers, but the last bit of code converts to per capita (per 100,000 population)."
      ],
      "metadata": {
        "id": "-dPGQt6kbC7C"
      }
    },
    {
      "cell_type": "code",
      "source": [
        "homicides_fbi = pd.read_csv(\"/content/fbi-homicides-2019.csv\")\n",
        "# Drop suffix rows with notes\n",
        "homicides_fbi = homicides_fbi.drop(homicides_fbi.index[51:])\n",
        "# Clean up column names\n",
        "homicides_fbi = homicides_fbi.rename(columns={'Total\\nmurders1': 'Murders',\n",
        "                                    'Total\\nfirearms': 'Firearm',\n",
        "                                    'Firearms\\n(type\\nunknown)': 'Unknown',\n",
        "                                    'Knives or\\ncutting\\ninstruments':'Cutting',\n",
        "                                    'Other\\nweapons': 'Other',\n",
        "                                    'Hands, fists,\\nfeet, etc.2':'Fists, Etc.'})\n",
        "# Simplify dataframe\n",
        "homicides_fbi['Non-Firearm'] = homicides_fbi['Cutting'] + \\\n",
        "                               homicides_fbi['Other'] + \\\n",
        "                               homicides_fbi['Fists, Etc.']\n",
        "# Reorganize dataframe\n",
        "homicides_fbi = homicides_fbi[['State', 'Murders', 'Non-Firearm', 'Firearm',\n",
        "                      'Handguns', 'Rifles', 'Unknown']]\n",
        "# Clean up state names\n",
        "homicides_fbi['State'][0] = \"Alabama\"\n",
        "homicides_fbi['State'][9] = \"Florida\"\n",
        "homicides_fbi['State'][13] = \"Illinois\"\n",
        "# Make sure all non-name data is numeric\n",
        "homicides_fbi['Murders'][4] = 1679\n",
        "homicides_fbi['Murders'][43] = 1379\n",
        "homicides_fbi['Murders'] = pd.to_numeric(homicides_fbi['Murders'])\n",
        "homicides_fbi['Firearm'][4] = 1142\n",
        "homicides_fbi['Firearm'][43] = 1064\n",
        "homicides_fbi['Firearm'] = pd.to_numeric(homicides_fbi['Firearm'])\n",
        "# Drop DC data because not a state\n",
        "homicides_fbi = homicides_fbi.drop(8)\n",
        "# calculate per capita, step 1\n",
        "homicides_fbi = homicides_fbi.reset_index(drop=True)\n",
        "homicides_fbi['Murders'] = \\\n",
        "                  homicides_fbi['Murders'].divide(population['Population'])\n",
        "homicides_fbi['Non-Firearm'] = \\\n",
        "                  homicides_fbi['Non-Firearm'].divide(population['Population'])\n",
        "homicides_fbi['Firearm'] = \\\n",
        "                  homicides_fbi['Firearm'].divide(population['Population'])\n",
        "homicides_fbi['Handguns'] = \\\n",
        "                  homicides_fbi['Handguns'].divide(population['Population'])\n",
        "homicides_fbi['Rifles'] = \\\n",
        "                  homicides_fbi['Rifles'].divide(population['Population'])\n",
        "homicides_fbi['Unknown'] = \\\n",
        "                  homicides_fbi['Unknown'].divide(population['Population'])\n",
        "# calculate per capita, step 2\n",
        "per_capita = 100_000\n",
        "homicides_fbi['Murders'] = \\\n",
        "                  homicides_fbi['Murders'].apply(lambda x: x*per_capita)\n",
        "homicides_fbi['Non-Firearm'] = \\\n",
        "                  homicides_fbi['Non-Firearm'].apply(lambda x: x*per_capita)\n",
        "homicides_fbi['Firearm'] = \\\n",
        "                  homicides_fbi['Firearm'].apply(lambda x: x*per_capita)\n",
        "homicides_fbi['Handguns'] = \\\n",
        "                  homicides_fbi['Handguns'].apply(lambda x: x*per_capita)\n",
        "homicides_fbi['Rifles'] = \\\n",
        "                  homicides_fbi['Rifles'].apply(lambda x: x*per_capita)\n",
        "homicides_fbi['Unknown'] = \\\n",
        "                  homicides_fbi['Unknown'].apply(lambda x: x*per_capita)\n",
        "\n",
        "#homicides_fbi"
      ],
      "metadata": {
        "colab": {
          "base_uri": "https://localhost:8080/"
        },
        "id": "GVkHwwvMJN8f",
        "outputId": "1eb0a4c8-21cc-4866-bc0c-2f7bb060f651"
      },
      "execution_count": null,
      "outputs": [
        {
          "output_type": "stream",
          "name": "stderr",
          "text": [
            "<ipython-input-4-80654640e879>:20: SettingWithCopyWarning: \n",
            "A value is trying to be set on a copy of a slice from a DataFrame\n",
            "\n",
            "See the caveats in the documentation: https://pandas.pydata.org/pandas-docs/stable/user_guide/indexing.html#returning-a-view-versus-a-copy\n",
            "  homicides_fbi['State'][9] = \"Florida\"\n",
            "<ipython-input-4-80654640e879>:21: SettingWithCopyWarning: \n",
            "A value is trying to be set on a copy of a slice from a DataFrame\n",
            "\n",
            "See the caveats in the documentation: https://pandas.pydata.org/pandas-docs/stable/user_guide/indexing.html#returning-a-view-versus-a-copy\n",
            "  homicides_fbi['State'][13] = \"Illinois\"\n",
            "<ipython-input-4-80654640e879>:24: SettingWithCopyWarning: \n",
            "A value is trying to be set on a copy of a slice from a DataFrame\n",
            "\n",
            "See the caveats in the documentation: https://pandas.pydata.org/pandas-docs/stable/user_guide/indexing.html#returning-a-view-versus-a-copy\n",
            "  homicides_fbi['Murders'][43] = 1379\n",
            "<ipython-input-4-80654640e879>:26: SettingWithCopyWarning: \n",
            "A value is trying to be set on a copy of a slice from a DataFrame\n",
            "\n",
            "See the caveats in the documentation: https://pandas.pydata.org/pandas-docs/stable/user_guide/indexing.html#returning-a-view-versus-a-copy\n",
            "  homicides_fbi['Firearm'][4] = 1142\n",
            "<ipython-input-4-80654640e879>:27: SettingWithCopyWarning: \n",
            "A value is trying to be set on a copy of a slice from a DataFrame\n",
            "\n",
            "See the caveats in the documentation: https://pandas.pydata.org/pandas-docs/stable/user_guide/indexing.html#returning-a-view-versus-a-copy\n",
            "  homicides_fbi['Firearm'][43] = 1064\n"
          ]
        }
      ]
    },
    {
      "cell_type": "markdown",
      "source": [
        "Now for mass shootings. These are 1982-2023. We should probably update these with more current mass shootings, since unfortunately they're becoming that common. Mainly, we're interested in weapon type (simplified) and state. There are also columns for age and mental health flags, which we'll go and include to give us more options. \n",
        "\n",
        "For the weapon type, we visually examined the data set to get an idea of what weapons were used and not used, since the labeling was very non-standardized, and that informed our choices below on how to simplify and standardize that column. In particular, we noticed only semiautomatic rifles (typically equivalent to the colloquial term \"assault weapon\") above 5.56mm or heavier, and not any manual types, such as bolt-action, with two exceptions, which were .22 caliber rifles. We gave these two their own separate markings. A greater portion of handguns were revolvers, marked \"Revolver.\" Semiautomatic handguns were marked \"Handgun.\" Shotguns were marked \"Shotguns.\" Anything else would be marked \"Other.\""
      ],
      "metadata": {
        "id": "hxxy2kARKCNN"
      }
    },
    {
      "cell_type": "code",
      "source": [
        "# dataset on mass shootings over time\n",
        "massacres = pd.read_csv(\"/content/mass_shootings.csv\")\n",
        "massacres = massacres[['location',\n",
        "                       'age_of_shooter',\n",
        "                       'prior_signs_mental_health_issues',\n",
        "                       'weapon_type']]\n",
        "# isolate states only\n",
        "for i in massacres.index:\n",
        "  state = massacres['location'][i].split()[-1]\n",
        "  if state == \"TN\":\n",
        "    massacres['location'][i] = \"Tennessee\"\n",
        "  else:\n",
        "    massacres['location'][i] = state\n",
        "# standardize column for mental health issues\n",
        "# by assuming unresolved question means No\n",
        "massacres = massacres.rename(columns= \\\n",
        "                          {'prior_signs_mental_health_issues':'Mental Health'})\n",
        "for i in massacres.index:\n",
        "  mh = massacres['Mental Health'][i]\n",
        "  if \"-\" in mh or \"Unclear\" in mh or \"TBD\" in mh:\n",
        "    massacres['Mental Health'][i] = \"No\"\n",
        "  elif \"yes\" in mh:\n",
        "    massacres['Mental Health'][i] = \"Yes\"\n",
        "# clean up weapon type column\n",
        "for i in massacres.index:\n",
        "  entry = massacres['weapon_type'][i]\n",
        "  if i == 58 or i == 130:\n",
        "    massacres['weapon_type'][i] = \".22\"\n",
        "  elif (\"rifle\" in entry or \"Rifle\" in entry\n",
        "    or \"assault\" in entry or \"Assault\" in entry):\n",
        "    massacres['weapon_type'][i] = \"Rifle\"\n",
        "  elif \"shotgun\" in entry or \"Shotgun\" in entry:\n",
        "    massacres['weapon_type'][i] = \"Shotgun\"\n",
        "  elif \"handgun\" in entry or \"Handgun\" in entry:\n",
        "    massacres['weapon_type'][i] = \"Handgun\"\n",
        "  elif \"revolver\" in entry or \"Revolver\" in entry:\n",
        "    massacres['weapon_type'][i] = \"Revolver\"\n",
        "  else:\n",
        "    massacres['weapon_type'][i] = \"Other\"\n",
        "# drop DC since it's not a state\n",
        "massacres = massacres.drop(74)\n",
        "\n",
        "#massacres"
      ],
      "metadata": {
        "id": "hgS66QOUKOt9"
      },
      "execution_count": null,
      "outputs": []
    },
    {
      "cell_type": "markdown",
      "source": [
        "# Data Cleaning - Partisan Policy Data\n",
        "\n",
        "Next is the partisan dataset from Gabby Giffords, former representative from Arizona, who lobbies on gun policy. While this is a partisan dataset, the reasoning is that an opposite partisan would not contest the distribution of grades themselves so much as they would invert the scale, so that \"good\" becomes \"bad\" and vice versa. We don't care about which part of the scale means which, so as long as this assumption holds about agreeing on the distribution then we think this is a good baseline for what states have what gun control policies.\n",
        "\n",
        "We're also grabbing population data from this since it has state-wise 2019 population data, which is very handy for doing per capita calculations on later 2019 data."
      ],
      "metadata": {
        "id": "WA62dpBkUSM6"
      }
    },
    {
      "cell_type": "code",
      "source": [
        "partisan_data = pd.read_csv(\"/content/partisan-gun-data.csv\")\n",
        "# grab population data for doing per capita calculations\n",
        "population = partisan_data[['state','pop2019']]\n",
        "population = population.rename(columns={\"state\": \"State\", \n",
        "                                        \"pop2019\":\"Population\"})\n",
        "population = population.sort_values(\"State\")\n",
        "population = population.reset_index()\n",
        "# get policy data itself from partisan data\n",
        "policy = partisan_data[['state', 'grade2019']]\n",
        "policy = policy.rename(columns={\"state\": \"State\", \n",
        "                                \"grade2019\": \"Severity Gun Control\"})\n",
        "\n",
        "#population\n",
        "#policy"
      ],
      "metadata": {
        "id": "q61Ul2-3VF0T"
      },
      "execution_count": null,
      "outputs": []
    },
    {
      "cell_type": "markdown",
      "source": [
        "# Cleaning Data - Economics\n",
        "\n",
        "Most of these datasets are over multiple years, when in fact we just want 2019 to compare to the FBI dataset. So read in CSV with Pandas and transform the dataframe appropriately. Also, as per above, we aren't considering Alabama, Florida, or Illinois in this analysis. We'll still talk about them elsewhere.\n",
        "\n",
        "These are total levels. We'll take the Q4 data or the last month's data, whichever's appropriate, to grab data from the end of the year as representative of where things stood because of things happening in the state that year."
      ],
      "metadata": {
        "id": "KCntrirLI4_1"
      }
    },
    {
      "cell_type": "code",
      "source": [
        "# dataset on GDP per state in millions of dollars\n",
        "gdp = pd.read_csv(\"/content/state_gdp_raw_in_millions.csv\")\n",
        "gdp = gdp[['Geography', '2019 Q4']]\n",
        "gdp = gdp.rename(columns={'Geography': 'State', '2019 Q4': '2019'})\n",
        "# drop US aggregate, and DC since it's not a state\n",
        "gdp = gdp.drop([0,9])\n",
        "\n",
        "#gdp"
      ],
      "metadata": {
        "id": "1Gslo-Z1HR9d"
      },
      "execution_count": null,
      "outputs": []
    },
    {
      "cell_type": "code",
      "source": [
        "# dataset on unemployment rate per state in percent\n",
        "unemployment = pd.read_csv(\"/content/unemployment_rate_raw.csv\")\n",
        "unemployment = unemployment[['Geography', '2020-01-01']]\n",
        "unemployment = unemployment.rename(columns={'Geography': 'State', \n",
        "                                            '2020-01-01': '2019'})\n",
        "# drop US aggregate and DC since it's not a state\n",
        "unemployment = unemployment.drop([0,9])\n",
        "\n",
        "#unemployment"
      ],
      "metadata": {
        "id": "s7GNaOOtHc4l"
      },
      "execution_count": null,
      "outputs": []
    },
    {
      "cell_type": "code",
      "source": [
        "# dataset on average weekly earnings per state in dollars\n",
        "earnings = pd.read_csv(\"/content/weekly_earnings_raw.csv\")\n",
        "earnings = earnings[['Geography', '2020-01-01']]\n",
        "earnings = earnings.rename(columns={'Geography': 'State', '2020-01-01': '2019'})\n",
        "# drop US aggregate and DC since it's not a state\n",
        "earnings = earnings.drop([0,9])\n",
        "\n",
        "#earnings"
      ],
      "metadata": {
        "id": "qchRNRJzSTMq"
      },
      "execution_count": null,
      "outputs": []
    },
    {
      "cell_type": "markdown",
      "source": [
        "# Cleaning Data - Health\n",
        "\n",
        "These are from the [CDC's state tracker](https://www.cdc.gov/nchs/pressroom/stats_of_the_states.htm). Same order as the states as the datasets above, which is alphabetical.\n",
        "\n",
        "This is from 2019, except for covid-19 data which is from Q3 2022. For analysis, we may not want to plot all of these because that would take up a lot of room. We could probably do correlation matrices or something -- and/or then maybe plot the correlation values?\n",
        "\n",
        "One of the main ones we probably do want to plot is a joint study of drug overdoses and firearm-injury deaths as a possible parallel to mental health. But that could be frought with assumptions about mental health, which we should note explicitly. Probably also dig into literature a little (last minute) to consider whether it's appropriate.\n",
        "\n",
        "Heat maps could also be cool.\n",
        "\n",
        "Some of these have DC in them which we drop in each case for consistency with the above datasets, particular the base partisan policy rankings dataset."
      ],
      "metadata": {
        "id": "zZPHFN3BYaqi"
      }
    },
    {
      "cell_type": "code",
      "source": [
        "# CDC dataset on covid-19 death rates as of Q3 2022\n",
        "covid = pd.read_csv(\"/content/cdc-covid19-2022.csv\")\n",
        "covid = covid.loc[covid['Quarters'] == \"Q3 2022\"]\n",
        "covid = covid[['STATE', 'RATE']]\n",
        "covid = covid.rename(columns={\"STATE\": \"State\", \"RATE\": \"Death Rate\"})\n",
        "\n",
        "#covid"
      ],
      "metadata": {
        "id": "goPEXQwIT6VN"
      },
      "execution_count": null,
      "outputs": []
    },
    {
      "cell_type": "code",
      "source": [
        "# CDC dataset on divorce rates as of 2019\n",
        "divorce = pd.read_csv(\"/content/cdc-divorce-2019.csv\")\n",
        "divorce = divorce.loc[divorce['YEAR'] == 2019]\n",
        "divorce = divorce[['STATE', 'RATE']]\n",
        "divorce = divorce.rename(columns={\"STATE\": \"State\", \"RATE\": \"Divorce Rate\"})\n",
        "# drop DC since it's not a state\n",
        "divorce = divorce.drop(110)\n",
        "divorce = divorce.reset_index(drop=True)\n",
        "\n",
        "#divorce"
      ],
      "metadata": {
        "id": "Ra9vItTc7Kon"
      },
      "execution_count": null,
      "outputs": []
    },
    {
      "cell_type": "code",
      "source": [
        "# CDC dataset on drug overdose deaths as of 2019\n",
        "drugs = pd.read_csv(\"/content/cdc-drug-od-2019.csv\")\n",
        "drugs = drugs.loc[drugs['YEAR'] == 2019]\n",
        "drugs = drugs[['STATE', 'RATE']]\n",
        "drugs = drugs.rename(columns={\"STATE\": \"State\", \"RATE\": \"Death Rate\"})\n",
        "drugs = drugs.reset_index(drop=True)\n",
        "\n",
        "#drugs"
      ],
      "metadata": {
        "id": "0tZ6EnMl7YPi"
      },
      "execution_count": null,
      "outputs": []
    },
    {
      "cell_type": "code",
      "source": [
        "# CDC dataset on total birth rate as of 2019\n",
        "fertility = pd.read_csv(\"/content/cdc-fertility-2019.csv\")\n",
        "fertility = fertility.loc[fertility['YEAR'] == 2019]\n",
        "fertility = fertility[['STATE', 'FERTILITY RATE']]\n",
        "fertility = fertility.rename(columns={\"STATE\": \"State\", \n",
        "                                      \"FERTILITY RATE\": \"Birth Rate\"})\n",
        "fertility = fertility.reset_index(drop=True)\n",
        "\n",
        "#fertility"
      ],
      "metadata": {
        "id": "-OM4Z8Aa7_RI"
      },
      "execution_count": null,
      "outputs": []
    },
    {
      "cell_type": "code",
      "source": [
        "# CDC dataset on firearm-related deaths as of 2019\n",
        "firearms = pd.read_csv(\"/content/cdc-firearm-deaths-2019.csv\")\n",
        "firearms = firearms.loc[firearms['YEAR'] == 2019]\n",
        "firearms = firearms[['STATE', 'RATE']]\n",
        "firearms = firearms.rename(columns={\"STATE\": \"State\", \"RATE\": \"Death Rate\"})\n",
        "firearms = firearms.reset_index(drop=True)\n",
        "\n",
        "#firearms"
      ],
      "metadata": {
        "id": "ufCsUmU_8WKL"
      },
      "execution_count": null,
      "outputs": []
    },
    {
      "cell_type": "markdown",
      "source": [
        "For 2019 homicide data, it would be good to do an analysis that compares this to FBI which is a different source."
      ],
      "metadata": {
        "id": "hE3AZvkVZ48n"
      }
    },
    {
      "cell_type": "code",
      "source": [
        "# CDC dataset on homicides as of 2019\n",
        "homicides_cdc = pd.read_csv(\"/content/cdc-homicides-2019.csv\")\n",
        "homicides_cdc = homicides_cdc.loc[homicides_cdc['YEAR'] == 2019]\n",
        "homicides_cdc = homicides_cdc[['STATE', 'RATE']]\n",
        "homicides_cdc = homicides_cdc.rename(columns={\"STATE\": \"State\", \n",
        "                                              \"RATE\": \"Death Rate\"})\n",
        "homicides_cdc = homicides_cdc.reset_index(drop=True)\n",
        "\n",
        "#homicides_cdc"
      ],
      "metadata": {
        "id": "KDctorXT88nB"
      },
      "execution_count": null,
      "outputs": []
    },
    {
      "cell_type": "code",
      "source": [
        "# CDC dataset on infanty mortality as of 2019\n",
        "infant = pd.read_csv(\"/content/cdc-infant-mortality-2019.csv\")\n",
        "infant = infant.loc[infant['YEAR'] == 2019]\n",
        "infant = infant[['STATE', 'RATE']]\n",
        "infant = infant.rename(columns={\"STATE\": \"State\", \"RATE\": \"Death Rate\"})\n",
        "infant = infant.reset_index(drop=True)\n",
        "\n",
        "#infant"
      ],
      "metadata": {
        "id": "eJej_HYj9Sqx"
      },
      "execution_count": null,
      "outputs": []
    },
    {
      "cell_type": "code",
      "source": [
        "# CDC dataset on life expectancy as of 2019\n",
        "lifespan = pd.read_csv(\"/content/cdc-life-expectancy-2019.csv\")\n",
        "lifespan = lifespan.loc[lifespan['YEAR'] == 2019]\n",
        "lifespan = lifespan[['STATE', 'RATE']]\n",
        "lifespan = lifespan.rename(columns={\"STATE\": \"State\", \"RATE\": \"Years Lived\"})\n",
        "lifespan = lifespan.reset_index(drop=True)\n",
        "\n",
        "#lifespan"
      ],
      "metadata": {
        "id": "RlfRST2o-DoO"
      },
      "execution_count": null,
      "outputs": []
    },
    {
      "cell_type": "code",
      "source": [
        "# CDC dataset on marriage rates as of 2019\n",
        "marriage = pd.read_csv(\"/content/cdc-marriage-2019.csv\")\n",
        "marriage = marriage.loc[marriage['YEAR'] == 2019]\n",
        "marriage = marriage[['STATE', 'RATE']]\n",
        "marriage = marriage.rename(columns={\"STATE\": \"State\", \"RATE\": \"Marriage Rate\"})\n",
        "# drop DC since it's not a state\n",
        "marriage = marriage.drop(110)\n",
        "marriage = marriage.reset_index(drop=True)\n",
        "\n",
        "#marriage"
      ],
      "metadata": {
        "id": "dPnnaogv-ZGr"
      },
      "execution_count": null,
      "outputs": []
    },
    {
      "cell_type": "code",
      "source": [
        "# CDC dataset on teen birth rate as of 2019\n",
        "teen_births = pd.read_csv(\"/content/cdc-teen-births-2019.csv\")\n",
        "teen_births = teen_births.loc[teen_births['YEAR'] == 2019]\n",
        "teen_births = teen_births[['STATE', 'RATE']]\n",
        "teen_births = teen_births.rename(columns={\"STATE\" : \"State\",\n",
        "                                          \"RATE\" : \"Birth Rate\"})\n",
        "teen_births = teen_births.reset_index(drop=True)\n",
        "\n",
        "#teen_births"
      ],
      "metadata": {
        "id": "O9eTP-1P_p5j"
      },
      "execution_count": null,
      "outputs": []
    },
    {
      "cell_type": "markdown",
      "source": [
        "Now we'll want to standardize state names between the CDC files, which use abbreviations, and the other dataframes, which use full names. Our choice is to use full names for clarity. To speed this up, there's a handy open-source Python dictionary created just for this kind of purpose. So we'll grab that from the import and use it to modify each of the CDC tables.\n",
        "\n",
        "*NOTE: Do this once, because the dataframes are changed after that. To reset, run the above cells again first.*"
      ],
      "metadata": {
        "id": "wDu0da-RKa8Q"
      }
    },
    {
      "cell_type": "code",
      "source": [
        "state_dict = usa.abbrev_to_us_state\n",
        "# covid-19 death rates\n",
        "for index, state in covid.iterrows():\n",
        "  fullname = state_dict[state['State']]\n",
        "  covid['State'][index] = fullname\n",
        "# divorce rates\n",
        "for index, state in divorce.iterrows():\n",
        "  fullname = state_dict[state['State']]\n",
        "  divorce['State'][index] = fullname\n",
        "# drug OD death rates\n",
        "for index, state in drugs.iterrows():\n",
        "  fullname = state_dict[state['State']]\n",
        "  drugs['State'][index] = fullname\n",
        "# fertility rates\n",
        "for index, state in fertility.iterrows():\n",
        "  fullname = state_dict[state['State']]\n",
        "  fertility['State'][index] = fullname\n",
        "# firearm injury death rates\n",
        "for index, state in firearms.iterrows():\n",
        "  fullname = state_dict[state['State']]\n",
        "  firearms['State'][index] = fullname\n",
        "# homicide rates\n",
        "for index, state in homicides_cdc.iterrows():\n",
        "  fullname = state_dict[state['State']]\n",
        "  homicides_cdc['State'][index] = fullname\n",
        "# infant mortality rates\n",
        "for index, state in infant.iterrows():\n",
        "  fullname = state_dict[state['State']]\n",
        "  infant['State'][index] = fullname\n",
        "# life expectancies\n",
        "for index, state in lifespan.iterrows():\n",
        "  fullname = state_dict[state['State']]\n",
        "  lifespan['State'][index] = fullname\n",
        "# marriage rates\n",
        "for index, state in marriage.iterrows():\n",
        "  fullname = state_dict[state['State']]\n",
        "  marriage['State'][index] = fullname\n",
        "# teen birth rates\n",
        "for index, state in teen_births.iterrows():\n",
        "  fullname = state_dict[state['State']]\n",
        "  teen_births['State'][index] = fullname"
      ],
      "metadata": {
        "colab": {
          "base_uri": "https://localhost:8080/"
        },
        "id": "WglXahIKKREi",
        "outputId": "33cc5044-f554-4332-d7a1-45877a8e10b7"
      },
      "execution_count": null,
      "outputs": [
        {
          "output_type": "stream",
          "name": "stderr",
          "text": [
            "<ipython-input-19-bf11308085b2>:5: SettingWithCopyWarning: \n",
            "A value is trying to be set on a copy of a slice from a DataFrame\n",
            "\n",
            "See the caveats in the documentation: https://pandas.pydata.org/pandas-docs/stable/user_guide/indexing.html#returning-a-view-versus-a-copy\n",
            "  covid['State'][index] = fullname\n",
            "<ipython-input-19-bf11308085b2>:9: SettingWithCopyWarning: \n",
            "A value is trying to be set on a copy of a slice from a DataFrame\n",
            "\n",
            "See the caveats in the documentation: https://pandas.pydata.org/pandas-docs/stable/user_guide/indexing.html#returning-a-view-versus-a-copy\n",
            "  divorce['State'][index] = fullname\n",
            "<ipython-input-19-bf11308085b2>:13: SettingWithCopyWarning: \n",
            "A value is trying to be set on a copy of a slice from a DataFrame\n",
            "\n",
            "See the caveats in the documentation: https://pandas.pydata.org/pandas-docs/stable/user_guide/indexing.html#returning-a-view-versus-a-copy\n",
            "  drugs['State'][index] = fullname\n",
            "<ipython-input-19-bf11308085b2>:17: SettingWithCopyWarning: \n",
            "A value is trying to be set on a copy of a slice from a DataFrame\n",
            "\n",
            "See the caveats in the documentation: https://pandas.pydata.org/pandas-docs/stable/user_guide/indexing.html#returning-a-view-versus-a-copy\n",
            "  fertility['State'][index] = fullname\n",
            "<ipython-input-19-bf11308085b2>:21: SettingWithCopyWarning: \n",
            "A value is trying to be set on a copy of a slice from a DataFrame\n",
            "\n",
            "See the caveats in the documentation: https://pandas.pydata.org/pandas-docs/stable/user_guide/indexing.html#returning-a-view-versus-a-copy\n",
            "  firearms['State'][index] = fullname\n",
            "<ipython-input-19-bf11308085b2>:25: SettingWithCopyWarning: \n",
            "A value is trying to be set on a copy of a slice from a DataFrame\n",
            "\n",
            "See the caveats in the documentation: https://pandas.pydata.org/pandas-docs/stable/user_guide/indexing.html#returning-a-view-versus-a-copy\n",
            "  homicides_cdc['State'][index] = fullname\n",
            "<ipython-input-19-bf11308085b2>:33: SettingWithCopyWarning: \n",
            "A value is trying to be set on a copy of a slice from a DataFrame\n",
            "\n",
            "See the caveats in the documentation: https://pandas.pydata.org/pandas-docs/stable/user_guide/indexing.html#returning-a-view-versus-a-copy\n",
            "  lifespan['State'][index] = fullname\n",
            "<ipython-input-19-bf11308085b2>:37: SettingWithCopyWarning: \n",
            "A value is trying to be set on a copy of a slice from a DataFrame\n",
            "\n",
            "See the caveats in the documentation: https://pandas.pydata.org/pandas-docs/stable/user_guide/indexing.html#returning-a-view-versus-a-copy\n",
            "  marriage['State'][index] = fullname\n",
            "<ipython-input-19-bf11308085b2>:41: SettingWithCopyWarning: \n",
            "A value is trying to be set on a copy of a slice from a DataFrame\n",
            "\n",
            "See the caveats in the documentation: https://pandas.pydata.org/pandas-docs/stable/user_guide/indexing.html#returning-a-view-versus-a-copy\n",
            "  teen_births['State'][index] = fullname\n"
          ]
        }
      ]
    },
    {
      "cell_type": "markdown",
      "source": [
        "Finally, let's match homicides from the CDC and homicides from the FBI and statistically analyze how they compare to fill in the three gaps (Alabama, Florida, and Illinois) in the FBI's dataset with estimates. Specifically, I'm going to average the differences between the two sets for the other 47 states, then add/subtract that from the CDC's value for the three missing states.\n",
        "\n",
        "For the other stats, use the column median. Not great, but all we have, since the CDC doesn't really track that."
      ],
      "metadata": {
        "id": "w-9CP6XXPJA9"
      }
    },
    {
      "cell_type": "code",
      "source": [
        "diff = homicides_cdc['Death Rate'] - homicides_fbi['Murders']\n",
        "# correct Alabama\n",
        "homicides_fbi['Murders'][0] = homicides_cdc['Death Rate'][0] - diff.mean()\n",
        "homicides_fbi['Non-Firearm'][0] = homicides_fbi['Non-Firearm'].median()\n",
        "homicides_fbi['Firearm'][0] = homicides_fbi['Firearm'].median()\n",
        "homicides_fbi['Handguns'][0] = homicides_fbi['Handguns'].median()\n",
        "homicides_fbi['Rifles'][0] = homicides_fbi['Rifles'].median()\n",
        "homicides_fbi['Unknown'][0] = homicides_fbi['Unknown'].median()\n",
        "# correct Florida\n",
        "homicides_fbi['Murders'][8] = homicides_cdc['Death Rate'][8] - diff.mean()\n",
        "homicides_fbi['Non-Firearm'][8] = homicides_fbi['Non-Firearm'].median()\n",
        "homicides_fbi['Firearm'][8] = homicides_fbi['Firearm'].median()\n",
        "homicides_fbi['Handguns'][8] = homicides_fbi['Handguns'].median()\n",
        "homicides_fbi['Rifles'][8] = homicides_fbi['Rifles'].median()\n",
        "homicides_fbi['Unknown'][8] = homicides_fbi['Unknown'].median()\n",
        "# correct Illinois\n",
        "homicides_fbi['Murders'][12] = homicides_cdc['Death Rate'][12] - diff.mean()\n",
        "homicides_fbi['Non-Firearm'][12] = homicides_fbi['Non-Firearm'].median()\n",
        "homicides_fbi['Firearm'][12] = homicides_fbi['Firearm'].median()\n",
        "homicides_fbi['Handguns'][12] = homicides_fbi['Handguns'].median()\n",
        "homicides_fbi['Rifles'][12] = homicides_fbi['Rifles'].median()\n",
        "homicides_fbi['Unknown'][12] = homicides_fbi['Unknown'].median()\n",
        "\n",
        "#homicides_fbi"
      ],
      "metadata": {
        "colab": {
          "base_uri": "https://localhost:8080/"
        },
        "id": "Mxy-c6dJPINB",
        "outputId": "696e5b1a-b942-4d0e-a72a-b1f1b4f89246"
      },
      "execution_count": null,
      "outputs": [
        {
          "output_type": "stream",
          "name": "stderr",
          "text": [
            "<ipython-input-20-1ba78beb0b65>:3: SettingWithCopyWarning: \n",
            "A value is trying to be set on a copy of a slice from a DataFrame\n",
            "\n",
            "See the caveats in the documentation: https://pandas.pydata.org/pandas-docs/stable/user_guide/indexing.html#returning-a-view-versus-a-copy\n",
            "  homicides_fbi['Murders'][0] = homicides_cdc['Death Rate'][0] - diff.mean()\n",
            "<ipython-input-20-1ba78beb0b65>:4: SettingWithCopyWarning: \n",
            "A value is trying to be set on a copy of a slice from a DataFrame\n",
            "\n",
            "See the caveats in the documentation: https://pandas.pydata.org/pandas-docs/stable/user_guide/indexing.html#returning-a-view-versus-a-copy\n",
            "  homicides_fbi['Non-Firearm'][0] = homicides_fbi['Non-Firearm'].median()\n",
            "<ipython-input-20-1ba78beb0b65>:5: SettingWithCopyWarning: \n",
            "A value is trying to be set on a copy of a slice from a DataFrame\n",
            "\n",
            "See the caveats in the documentation: https://pandas.pydata.org/pandas-docs/stable/user_guide/indexing.html#returning-a-view-versus-a-copy\n",
            "  homicides_fbi['Firearm'][0] = homicides_fbi['Firearm'].median()\n",
            "<ipython-input-20-1ba78beb0b65>:6: SettingWithCopyWarning: \n",
            "A value is trying to be set on a copy of a slice from a DataFrame\n",
            "\n",
            "See the caveats in the documentation: https://pandas.pydata.org/pandas-docs/stable/user_guide/indexing.html#returning-a-view-versus-a-copy\n",
            "  homicides_fbi['Handguns'][0] = homicides_fbi['Handguns'].median()\n",
            "<ipython-input-20-1ba78beb0b65>:7: SettingWithCopyWarning: \n",
            "A value is trying to be set on a copy of a slice from a DataFrame\n",
            "\n",
            "See the caveats in the documentation: https://pandas.pydata.org/pandas-docs/stable/user_guide/indexing.html#returning-a-view-versus-a-copy\n",
            "  homicides_fbi['Rifles'][0] = homicides_fbi['Rifles'].median()\n",
            "<ipython-input-20-1ba78beb0b65>:8: SettingWithCopyWarning: \n",
            "A value is trying to be set on a copy of a slice from a DataFrame\n",
            "\n",
            "See the caveats in the documentation: https://pandas.pydata.org/pandas-docs/stable/user_guide/indexing.html#returning-a-view-versus-a-copy\n",
            "  homicides_fbi['Unknown'][0] = homicides_fbi['Unknown'].median()\n",
            "<ipython-input-20-1ba78beb0b65>:10: SettingWithCopyWarning: \n",
            "A value is trying to be set on a copy of a slice from a DataFrame\n",
            "\n",
            "See the caveats in the documentation: https://pandas.pydata.org/pandas-docs/stable/user_guide/indexing.html#returning-a-view-versus-a-copy\n",
            "  homicides_fbi['Murders'][8] = homicides_cdc['Death Rate'][8] - diff.mean()\n",
            "<ipython-input-20-1ba78beb0b65>:11: SettingWithCopyWarning: \n",
            "A value is trying to be set on a copy of a slice from a DataFrame\n",
            "\n",
            "See the caveats in the documentation: https://pandas.pydata.org/pandas-docs/stable/user_guide/indexing.html#returning-a-view-versus-a-copy\n",
            "  homicides_fbi['Non-Firearm'][8] = homicides_fbi['Non-Firearm'].median()\n",
            "<ipython-input-20-1ba78beb0b65>:12: SettingWithCopyWarning: \n",
            "A value is trying to be set on a copy of a slice from a DataFrame\n",
            "\n",
            "See the caveats in the documentation: https://pandas.pydata.org/pandas-docs/stable/user_guide/indexing.html#returning-a-view-versus-a-copy\n",
            "  homicides_fbi['Firearm'][8] = homicides_fbi['Firearm'].median()\n",
            "<ipython-input-20-1ba78beb0b65>:13: SettingWithCopyWarning: \n",
            "A value is trying to be set on a copy of a slice from a DataFrame\n",
            "\n",
            "See the caveats in the documentation: https://pandas.pydata.org/pandas-docs/stable/user_guide/indexing.html#returning-a-view-versus-a-copy\n",
            "  homicides_fbi['Handguns'][8] = homicides_fbi['Handguns'].median()\n",
            "<ipython-input-20-1ba78beb0b65>:14: SettingWithCopyWarning: \n",
            "A value is trying to be set on a copy of a slice from a DataFrame\n",
            "\n",
            "See the caveats in the documentation: https://pandas.pydata.org/pandas-docs/stable/user_guide/indexing.html#returning-a-view-versus-a-copy\n",
            "  homicides_fbi['Rifles'][8] = homicides_fbi['Rifles'].median()\n",
            "<ipython-input-20-1ba78beb0b65>:15: SettingWithCopyWarning: \n",
            "A value is trying to be set on a copy of a slice from a DataFrame\n",
            "\n",
            "See the caveats in the documentation: https://pandas.pydata.org/pandas-docs/stable/user_guide/indexing.html#returning-a-view-versus-a-copy\n",
            "  homicides_fbi['Unknown'][8] = homicides_fbi['Unknown'].median()\n",
            "<ipython-input-20-1ba78beb0b65>:17: SettingWithCopyWarning: \n",
            "A value is trying to be set on a copy of a slice from a DataFrame\n",
            "\n",
            "See the caveats in the documentation: https://pandas.pydata.org/pandas-docs/stable/user_guide/indexing.html#returning-a-view-versus-a-copy\n",
            "  homicides_fbi['Murders'][12] = homicides_cdc['Death Rate'][12] - diff.mean()\n",
            "<ipython-input-20-1ba78beb0b65>:18: SettingWithCopyWarning: \n",
            "A value is trying to be set on a copy of a slice from a DataFrame\n",
            "\n",
            "See the caveats in the documentation: https://pandas.pydata.org/pandas-docs/stable/user_guide/indexing.html#returning-a-view-versus-a-copy\n",
            "  homicides_fbi['Non-Firearm'][12] = homicides_fbi['Non-Firearm'].median()\n",
            "<ipython-input-20-1ba78beb0b65>:19: SettingWithCopyWarning: \n",
            "A value is trying to be set on a copy of a slice from a DataFrame\n",
            "\n",
            "See the caveats in the documentation: https://pandas.pydata.org/pandas-docs/stable/user_guide/indexing.html#returning-a-view-versus-a-copy\n",
            "  homicides_fbi['Firearm'][12] = homicides_fbi['Firearm'].median()\n",
            "<ipython-input-20-1ba78beb0b65>:20: SettingWithCopyWarning: \n",
            "A value is trying to be set on a copy of a slice from a DataFrame\n",
            "\n",
            "See the caveats in the documentation: https://pandas.pydata.org/pandas-docs/stable/user_guide/indexing.html#returning-a-view-versus-a-copy\n",
            "  homicides_fbi['Handguns'][12] = homicides_fbi['Handguns'].median()\n",
            "<ipython-input-20-1ba78beb0b65>:21: SettingWithCopyWarning: \n",
            "A value is trying to be set on a copy of a slice from a DataFrame\n",
            "\n",
            "See the caveats in the documentation: https://pandas.pydata.org/pandas-docs/stable/user_guide/indexing.html#returning-a-view-versus-a-copy\n",
            "  homicides_fbi['Rifles'][12] = homicides_fbi['Rifles'].median()\n",
            "<ipython-input-20-1ba78beb0b65>:22: SettingWithCopyWarning: \n",
            "A value is trying to be set on a copy of a slice from a DataFrame\n",
            "\n",
            "See the caveats in the documentation: https://pandas.pydata.org/pandas-docs/stable/user_guide/indexing.html#returning-a-view-versus-a-copy\n",
            "  homicides_fbi['Unknown'][12] = homicides_fbi['Unknown'].median()\n"
          ]
        }
      ]
    },
    {
      "cell_type": "markdown",
      "source": [
        "# Wrapping Up\n",
        "\n",
        "Now let's just save everything as new CSVs so that they can be used in a data analysis notebook or something.\n",
        "\n",
        "*NOTE: If the files aren't appearing in the left-hand bar, right-click on that space and click Refresh.*"
      ],
      "metadata": {
        "id": "nx2NWO9iO8ky"
      }
    },
    {
      "cell_type": "code",
      "source": [
        "!mkdir /content/original_data\n",
        "!mv /content/*.csv /content/original_data\n",
        "!mv /content/project_data.zip /content/original_data/"
      ],
      "metadata": {
        "id": "7r3VJRVGNIQN"
      },
      "execution_count": null,
      "outputs": []
    },
    {
      "cell_type": "code",
      "source": [
        "policy.to_csv(\"/content/gun_policy_by_state.csv\", index=False)\n",
        "homicides_fbi.to_csv(\"/content/homicides_by_state_fbi.csv\", index=False)\n",
        "massacres.to_csv(\"/content/mass_shootings.csv\", index=False)\n",
        "gdp.to_csv(\"/content/gdp_by_state.csv\", index=False)\n",
        "unemployment.to_csv(\"/content/unemployment_rate_by_state.csv\", index=False)\n",
        "earnings.to_csv(\"/content/earnings_by_state.csv\", index=False)\n",
        "covid.to_csv(\"/content/covid_deaths_by_state.csv\", index=False)\n",
        "divorce.to_csv(\"/content/divorce_rate_by_state.csv\", index=False)\n",
        "drugs.to_csv(\"/content/drug_od_deaths_by_state.csv\", index=False)\n",
        "fertility.to_csv(\"/content/fertility_rate_by_state.csv\", index=False)\n",
        "firearms.to_csv(\"/content/firearm_deaths_by_state.csv\", index=False)\n",
        "homicides_cdc.to_csv(\"/content/homicides_by_state_cdc.csv\", index=False)\n",
        "infant.to_csv(\"/content/infant_mortality_by_state.csv\", index=False)\n",
        "lifespan.to_csv(\"/content/life_expectancy_by_state.csv\", index=False)\n",
        "marriage.to_csv(\"/content/marriage_rate_by_state.csv\", index=False)\n",
        "teen_births.to_csv(\"/content/teen_birth_rate_by_state.csv\", index=False)"
      ],
      "metadata": {
        "id": "c3fptMweU3yN"
      },
      "execution_count": null,
      "outputs": []
    },
    {
      "cell_type": "code",
      "source": [
        "!zip -r /content/cleaned_project_data.zip /content/*.csv\n",
        "!rm /content/*.csv\n",
        "\n",
        "from google.colab import files\n",
        "files.download(\"/content/cleaned_project_data.zip\")"
      ],
      "metadata": {
        "colab": {
          "base_uri": "https://localhost:8080/",
          "height": 303
        },
        "id": "Kls3HOtLZiFU",
        "outputId": "98422255-0615-4d19-c693-208ece4550bd"
      },
      "execution_count": null,
      "outputs": [
        {
          "output_type": "stream",
          "name": "stdout",
          "text": [
            "  adding: content/covid_deaths_by_state.csv (deflated 37%)\n",
            "  adding: content/divorce_rate_by_state.csv (deflated 39%)\n",
            "  adding: content/drug_od_deaths_by_state.csv (deflated 37%)\n",
            "  adding: content/earnings_by_state.csv (deflated 38%)\n",
            "  adding: content/fertility_rate_by_state.csv (deflated 38%)\n",
            "  adding: content/firearm_deaths_by_state.csv (deflated 38%)\n",
            "  adding: content/gdp_by_state.csv (deflated 37%)\n",
            "  adding: content/gun_policy_by_state.csv (deflated 42%)\n",
            "  adding: content/homicides_by_state_cdc.csv (deflated 37%)\n",
            "  adding: content/homicides_by_state_fbi.csv (deflated 46%)\n",
            "  adding: content/infant_mortality_by_state.csv (deflated 37%)\n",
            "  adding: content/life_expectancy_by_state.csv (deflated 41%)\n",
            "  adding: content/marriage_rate_by_state.csv (deflated 39%)\n",
            "  adding: content/mass_shootings.csv (deflated 74%)\n",
            "  adding: content/teen_birth_rate_by_state.csv (deflated 38%)\n",
            "  adding: content/unemployment_rate_by_state.csv (deflated 39%)\n"
          ]
        },
        {
          "output_type": "display_data",
          "data": {
            "text/plain": [
              "<IPython.core.display.Javascript object>"
            ],
            "application/javascript": [
              "\n",
              "    async function download(id, filename, size) {\n",
              "      if (!google.colab.kernel.accessAllowed) {\n",
              "        return;\n",
              "      }\n",
              "      const div = document.createElement('div');\n",
              "      const label = document.createElement('label');\n",
              "      label.textContent = `Downloading \"${filename}\": `;\n",
              "      div.appendChild(label);\n",
              "      const progress = document.createElement('progress');\n",
              "      progress.max = size;\n",
              "      div.appendChild(progress);\n",
              "      document.body.appendChild(div);\n",
              "\n",
              "      const buffers = [];\n",
              "      let downloaded = 0;\n",
              "\n",
              "      const channel = await google.colab.kernel.comms.open(id);\n",
              "      // Send a message to notify the kernel that we're ready.\n",
              "      channel.send({})\n",
              "\n",
              "      for await (const message of channel.messages) {\n",
              "        // Send a message to notify the kernel that we're ready.\n",
              "        channel.send({})\n",
              "        if (message.buffers) {\n",
              "          for (const buffer of message.buffers) {\n",
              "            buffers.push(buffer);\n",
              "            downloaded += buffer.byteLength;\n",
              "            progress.value = downloaded;\n",
              "          }\n",
              "        }\n",
              "      }\n",
              "      const blob = new Blob(buffers, {type: 'application/binary'});\n",
              "      const a = document.createElement('a');\n",
              "      a.href = window.URL.createObjectURL(blob);\n",
              "      a.download = filename;\n",
              "      div.appendChild(a);\n",
              "      a.click();\n",
              "      div.remove();\n",
              "    }\n",
              "  "
            ]
          },
          "metadata": {}
        },
        {
          "output_type": "display_data",
          "data": {
            "text/plain": [
              "<IPython.core.display.Javascript object>"
            ],
            "application/javascript": [
              "download(\"download_7b18a907-d058-47c5-9b66-bbaf40ba1271\", \"cleaned_project_data.zip\", 14178)"
            ]
          },
          "metadata": {}
        }
      ]
    },
    {
      "cell_type": "markdown",
      "source": [
        "The cleaned up data files should be zipped and ready to go, with a download initiated. \n",
        "\n",
        "Just unzip them in the next notebook with a `!zip <filepath/filename>` command in a code cell."
      ],
      "metadata": {
        "id": "ZSR5DwbTaiQZ"
      }
    }
  ]
}